{
 "cells": [
  {
   "cell_type": "markdown",
   "id": "33aefc8f",
   "metadata": {},
   "source": [
    "# PySCeS Template\n",
    "\n",
    "This template provides an interface to **PySCeS** (Python Simulator for Cellular Systems) through the PyEnzyme thin layer, enabling powerful biochemical network modeling and analysis capabilities.\n",
    "\n",
    "## About PySCeS\n",
    "\n",
    "PySCeS is a comprehensive Python-based modeling environment for cellular systems that specializes in:\n",
    "\n",
    "- **Metabolic Control Analysis (MCA)** - Quantify how metabolic fluxes and concentrations respond to parameter changes\n",
    "- **Steady-state modeling** - Analyze equilibrium states of biochemical networks\n",
    "- **Time-course simulations** - Model dynamic behavior of metabolic pathways\n",
    "- **Parameter scanning** - Explore parameter space and system sensitivity\n",
    "- **Structural analysis** - Examine network topology and stoichiometric properties\n",
    "\n",
    "## PyEnzyme Integration\n",
    "\n",
    "This template leverages the **PyEnzyme thin layer** to provide a streamlined interface to PySCeS functionality, making it easier to:\n",
    "\n",
    "- Import and work with experimental data\n",
    "- Set up biochemical models with intuitive syntax\n",
    "- Perform parameter estimation and model fitting\n",
    "- Visualize results and generate publication-ready plots\n",
    "\n",
    "## Use Cases\n",
    "\n",
    "- Enzyme kinetics modeling and parameter estimation\n",
    "- Metabolic pathway analysis and optimization\n",
    "- Control coefficient calculation for metabolic engineering\n",
    "- Steady-state flux analysis\n",
    "- Dynamic modeling of biochemical networks\n",
    "\n",
    "Get started by running the cells in the template notebook to explore PySCeS capabilities through the PyEnzyme interface. Check out the [PySCeS documentation](https://pyscesdocs.readthedocs.io/en/latest/) for more information.\n"
   ]
  },
  {
   "cell_type": "code",
   "execution_count": null,
   "id": "2659286d",
   "metadata": {},
   "outputs": [],
   "source": [
    "# Install all required packages\n",
    "%pip install pyenzyme pysces lmfit"
   ]
  },
  {
   "cell_type": "code",
   "execution_count": null,
   "id": "8de39726",
   "metadata": {},
   "outputs": [],
   "source": [
    "import pyenzyme as pe\n",
    "import pyenzyme.thinlayers as tl"
   ]
  },
  {
   "cell_type": "markdown",
   "id": "39b9f95a",
   "metadata": {},
   "source": [
    "In the following cell, we will load the EnzymML document from the EnzymeML Suite. The resulting object is an instance of the `EnzymeMLDocument` class, which you can inspect and re-use for your analysis. The following functions are available and compatible with the EnzymeMLDocument class:\n",
    "\n",
    "- `pe.summary(enzmldoc)`: Print a summary of the EnzymeML document.\n",
    "- `pe.plot(enzmldoc)`: Plot the EnzymeML document.\n",
    "- `pe.plot_interactive(enzmldoc)`: Interactive plot of the EnzymeML document.\n",
    "- `pe.to_pandas(enzmldoc)`: Convert the EnzymeML document to a pandas DataFrame.\n",
    "- `pe.to_sbml(enzmldoc)`: Convert the EnzymeML document to an SBML document.\n",
    "- `pe.to_petab(enzmldoc)`: Convert the EnzymeML document to a PEtab format.\n",
    "- `pe.get_current()`: Get the current EnzymeML document from the EnzymeML Suite."
   ]
  },
  {
   "cell_type": "code",
   "execution_count": null,
   "id": "f9307ef7",
   "metadata": {},
   "outputs": [],
   "source": [
    "# Connect to the EnzymeML Suite\n",
    "suite = pe.EnzymeMLSuite()\n",
    "\n",
    "# Get the current EnzymeML document\n",
    "enzmldoc = suite.get_current()\n",
    "\n",
    "# Print a summary of the EnzymeML document\n",
    "pe.summary(enzmldoc)"
   ]
  },
  {
   "cell_type": "markdown",
   "id": "0e7b64f5",
   "metadata": {},
   "source": [
    "## Using the PySCeS thin layer\n",
    "\n",
    "The thin layers has been designed to simply take the EnzymeML document, convert it to SBML and pass it to PySCeS. The package will then build a state model and optimize it:\n",
    "\n",
    "$$\n",
    "\\frac{d\\mathbf{S}}{dt} = \\mathbf{N} \\cdot \\mathbf{v}(S, \\theta)\n",
    "$$\n",
    "\n",
    "Where $N \\in \\mathbb{R}^{n \\times m}$ is the stoichiometric matrix, $v$ is the flux vector, and $S \\in \\mathbb{R}^n$ is the species concentration vector. This represents the dynamic system where the rate of change of species concentrations is given by the dot product of the stoichiometric matrix and the reaction rates.\n",
    "\n",
    "The rate equations are defined as:\n",
    "\n",
    "$$\n",
    "\\mathbf{v} = f(\\mathbf{S}, \\mathbf{p})\n",
    "$$\n",
    "\n",
    "Where $\\mathbf{p}$ is the parameter vector containing kinetic constants and other model parameters. Finally, this system will iteratively solve the system of equations to find the optimal parameters, using the method specified in the `method` argument."
   ]
  },
  {
   "cell_type": "code",
   "execution_count": null,
   "id": "a18cde8a",
   "metadata": {},
   "outputs": [],
   "source": [
    "# Create a PySCeS layer and optimize the model\n",
    "pysces_layer = tl.ThinLayerPysces(enzmldoc)\n",
    "result = pysces_layer.optimize(method=\"cobyla\")\n",
    "fitted_model = pysces_layer.write()\n",
    "\n",
    "# Display the result\n",
    "result"
   ]
  },
  {
   "cell_type": "code",
   "execution_count": null,
   "id": "08c33c45",
   "metadata": {},
   "outputs": [],
   "source": [
    "# Visualize the result\n",
    "pe.plot(fitted_model, thinlayer=pysces_layer, show=True)"
   ]
  },
  {
   "cell_type": "markdown",
   "id": "dd6bcb63",
   "metadata": {},
   "source": [
    "## Update the EnzymeML Suite document\n",
    "\n",
    "Once done, we can update the EnzymeML Suite document with the optimized parameters."
   ]
  },
  {
   "cell_type": "code",
   "execution_count": null,
   "id": "e3bd9ff9",
   "metadata": {},
   "outputs": [],
   "source": [
    "# Update the EnzymeML Suite document\n",
    "suite.update_current(fitted_model)"
   ]
  }
 ],
 "metadata": {
  "kernelspec": {
   "display_name": "catalax",
   "language": "python",
   "name": "python3"
  },
  "language_info": {
   "codemirror_mode": {
    "name": "ipython",
    "version": 3
   },
   "file_extension": ".py",
   "mimetype": "text/x-python",
   "name": "python",
   "nbconvert_exporter": "python",
   "pygments_lexer": "ipython3",
   "version": "3.11.11"
  }
 },
 "nbformat": 4,
 "nbformat_minor": 5
}
