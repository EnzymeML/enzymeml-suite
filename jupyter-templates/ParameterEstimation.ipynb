{
 "cells": [
  {
   "cell_type": "markdown",
   "id": "33aefc8f",
   "metadata": {},
   "source": [
    "# Parameter Estimation with Catalax\n",
    "\n",
    "This template demonstrates how to perform parameter estimation for enzyme kinetic models using the Catalax JAX library. Parameter estimation is the process of finding the best-fitting parameter values for your kinetic model given experimental data, using advanced optimization algorithms and gradient-based methods.\n",
    "\n",
    "## What is Parameter Estimation?\n",
    "\n",
    "Parameter estimation involves finding the optimal values of kinetic parameters (such as Km, Vmax, Ki) that best explain your experimental data. Unlike Bayesian approaches that provide uncertainty quantification, parameter estimation focuses on finding the single best set of parameters that minimize the difference between model predictions and observations.\n",
    "\n",
    "The key advantages of parameter estimation with Catalax include:\n",
    "\n",
    "- **Fast Optimization**: JAX's just-in-time compilation and automatic differentiation enable rapid parameter fitting\n",
    "- **Gradient-Based Methods**: Use efficient optimization algorithms like L-BFGS, Adam, and others\n",
    "- **Multiple Objectives**: Fit to multiple datasets simultaneously with different weighting schemes\n",
    "- **Robust Algorithms**: Access to state-of-the-art optimization methods that handle complex parameter landscapes\n",
    "- **Automatic Differentiation**: Exact gradients computed automatically for faster convergence\n",
    "\n",
    "## Optimization Algorithms\n",
    "\n",
    "Catalax provides access to various optimization algorithms through JAX optimization libraries:\n",
    "\n",
    "- **L-BFGS**: Quasi-Newton method ideal for smooth, well-behaved objective functions (use `method=\"lbfgs\"`)\n",
    "- **Least Squares**: Basic least squares optimization with parameter uncertainty (use `method=\"leastsq\"`)\n",
    "- **Nelder-Mead**: Simple but effective for many parameter estimation problems (use `method=\"nelder\"`)\n",
    "- **Cobyla**: Constrained optimization by linear approximation (use `method=\"cobyla\"`)\n",
    "\n",
    "## Getting Started\n",
    "\n",
    "This template provides the basic framework for parameter estimation using Catalax. The optimization process will find the parameter values that minimize the residual sum of squares between your model predictions and experimental data.\n",
    "\n",
    "Learn more about parameter estimation with Catalax in the [Catalax documentation](https://catalax.mintlify.app/basic/parameter-opt)."
   ]
  },
  {
   "cell_type": "code",
   "execution_count": null,
   "id": "2659286d",
   "metadata": {},
   "outputs": [],
   "source": [
    "# Install all required packages\n",
    "%pip install pyenzyme catalax"
   ]
  },
  {
   "cell_type": "code",
   "execution_count": null,
   "id": "8de39726",
   "metadata": {},
   "outputs": [],
   "source": [
    "import pyenzyme as pe\n",
    "import catalax as ctx"
   ]
  },
  {
   "cell_type": "markdown",
   "id": "39b9f95a",
   "metadata": {},
   "source": [
    "In the following cell, we will load the EnzymML document from the EnzymeML Suite. The resulting object is an instance of the `EnzymeMLDocument` class, which you can inspect and re-use for your analysis. The following functions are available and compatible with the EnzymeMLDocument class:\n",
    "\n",
    "- `pe.summary(enzmldoc)`: Print a summary of the EnzymeML document.\n",
    "- `pe.plot(enzmldoc)`: Plot the EnzymeML document.\n",
    "- `pe.plot_interactive(enzmldoc)`: Interactive plot of the EnzymeML document.\n",
    "- `pe.to_pandas(enzmldoc)`: Convert the EnzymeML document to a pandas DataFrame.\n",
    "- `pe.to_sbml(enzmldoc)`: Convert the EnzymeML document to an SBML document.\n",
    "- `pe.to_petab(enzmldoc)`: Convert the EnzymeML document to a PEtab format.\n",
    "- `pe.get_current()`: Get the current EnzymeML document from the EnzymeML Suite."
   ]
  },
  {
   "cell_type": "code",
   "execution_count": null,
   "id": "f9307ef7",
   "metadata": {},
   "outputs": [],
   "source": [
    "# Connect to the EnzymeML Suite\n",
    "suite = pe.EnzymeMLSuite()\n",
    "\n",
    "# Get the current EnzymeML document\n",
    "enzmldoc = suite.get_current()\n",
    "\n",
    "# Print a summary of the EnzymeML document\n",
    "pe.summary(enzmldoc)"
   ]
  },
  {
   "cell_type": "markdown",
   "id": "44fdf68a",
   "metadata": {},
   "source": [
    "## Converting EnzymeML to Catalax\n",
    "\n",
    "The `ctx.from_enzymeml` function converts an EnzymeML document to a Catalax dataset and model objects. The dataset contains the experimental data, and the model is a Catalax model object that you can use for parameter estimation."
   ]
  },
  {
   "cell_type": "code",
   "execution_count": null,
   "id": "fd3c44b0",
   "metadata": {},
   "outputs": [],
   "source": [
    "dataset, model = ctx.from_enzymeml(enzmldoc)"
   ]
  },
  {
   "cell_type": "markdown",
   "id": "9e89b1f1",
   "metadata": {},
   "source": [
    "## Parameter Estimation\n",
    "\n",
    "The `ctx.optimize` function performs parameter estimation using the specified optimization algorithm. The function returns the optimized parameters, the optimized model, and the optimization history."
   ]
  },
  {
   "cell_type": "code",
   "execution_count": null,
   "id": "bbe31a04",
   "metadata": {},
   "outputs": [],
   "source": [
    "result, optimized_model = ctx.optimize(model, dataset, method=\"cobyla\")\n",
    "\n",
    "# Display the optimization result\n",
    "result"
   ]
  },
  {
   "cell_type": "code",
   "execution_count": null,
   "id": "8e9af17b",
   "metadata": {},
   "outputs": [],
   "source": [
    "# Visualize the optimized model fit to the data\n",
    "dataset.plot(\n",
    "    predictor=optimized_model,\n",
    "    show=True,\n",
    "    path=\"optimized_model.png\",\n",
    ")"
   ]
  },
  {
   "cell_type": "markdown",
   "id": "34f375ad",
   "metadata": {},
   "source": [
    "## Update the EnzymeML Suite document\n",
    "\n",
    "Once done, we can update the EnzymeML Suite document with the optimized parameters."
   ]
  },
  {
   "cell_type": "code",
   "execution_count": null,
   "id": "d38dd545",
   "metadata": {},
   "outputs": [],
   "source": [
    "# We will update the model with the optimized parameters\n",
    "updated_enzmldoc = optimized_model.to_enzymeml(enzmldoc)\n",
    "\n",
    "# And update the EnzymeML Suite document\n",
    "suite.update_current(updated_enzmldoc)"
   ]
  }
 ],
 "metadata": {
  "kernelspec": {
   "display_name": "catalax",
   "language": "python",
   "name": "python3"
  },
  "language_info": {
   "codemirror_mode": {
    "name": "ipython",
    "version": 3
   },
   "file_extension": ".py",
   "mimetype": "text/x-python",
   "name": "python",
   "nbconvert_exporter": "python",
   "pygments_lexer": "ipython3",
   "version": "3.11.11"
  }
 },
 "nbformat": 4,
 "nbformat_minor": 5
}
