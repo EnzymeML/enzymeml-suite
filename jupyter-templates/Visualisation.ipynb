{
 "cells": [
  {
   "cell_type": "markdown",
   "id": "33aefc8f",
   "metadata": {},
   "source": [
    "# PyEnzyme Visualization Template\n",
    "\n",
    "This template is designed for creating publication-ready plots using PyEnzyme, offering a more static and polished approach compared to the interactive nature of the EnzymeML Suite Plots.\n",
    "\n",
    "## Key Features\n",
    "\n",
    "- **Publication Quality**: Generate high-resolution, publication-ready figures suitable for scientific journals and presentations\n",
    "- **Static Output**: Unlike the interactive EnzymeML Suite Plots, these visualizations are optimized for static display and print media\n",
    "- **PyEnzyme Integration**: Leverages the PyEnzyme library for robust data processing and visualization capabilities\n",
    "- **Customizable Styling**: Fine-tune plot aesthetics, colors, fonts, and layouts to meet publication standards\n",
    "- **Export Options**: Multiple output formats (PNG, PDF, SVG) for various publication requirements\n",
    "\n",
    "## Use Cases\n",
    "\n",
    "- Scientific paper figures\n",
    "- Conference presentations\n",
    "- Reports and documentation\n",
    "- Static data visualization for sharing\n",
    "\n",
    "This template complements the interactive plotting capabilities of the EnzymeML Suite by providing a dedicated workflow for creating polished, publication-ready visualizations."
   ]
  },
  {
   "cell_type": "code",
   "execution_count": null,
   "id": "2659286d",
   "metadata": {},
   "outputs": [],
   "source": [
    "# Install all required packages\n",
    "%pip install pyenzyme"
   ]
  },
  {
   "cell_type": "code",
   "execution_count": null,
   "id": "8de39726",
   "metadata": {},
   "outputs": [],
   "source": [
    "import pyenzyme as pe"
   ]
  },
  {
   "cell_type": "markdown",
   "id": "39b9f95a",
   "metadata": {},
   "source": [
    "In the following cell, we will load the EnzymML document from the EnzymeML Suite. The resulting object is an instance of the `EnzymeMLDocument` class, which you can inspect and re-use for your analysis. The following functions are available and compatible with the EnzymeMLDocument class:\n",
    "\n",
    "- `pe.summary(enzmldoc)`: Print a summary of the EnzymeML document.\n",
    "- `pe.plot(enzmldoc)`: Plot the EnzymeML document.\n",
    "- `pe.plot_interactive(enzmldoc)`: Interactive plot of the EnzymeML document.\n",
    "- `pe.to_pandas(enzmldoc)`: Convert the EnzymeML document to a pandas DataFrame.\n",
    "- `pe.to_sbml(enzmldoc)`: Convert the EnzymeML document to an SBML document.\n",
    "- `pe.to_petab(enzmldoc)`: Convert the EnzymeML document to a PEtab format.\n",
    "- `pe.get_current()`: Get the current EnzymeML document from the EnzymeML Suite."
   ]
  },
  {
   "cell_type": "code",
   "execution_count": null,
   "id": "f9307ef7",
   "metadata": {},
   "outputs": [],
   "source": [
    "# Connect to the EnzymeML Suite\n",
    "suite = pe.EnzymeMLSuite()\n",
    "\n",
    "# Get the current EnzymeML document\n",
    "enzmldoc = suite.get_current()\n",
    "\n",
    "# Print a summary of the EnzymeML document\n",
    "pe.summary(enzmldoc)"
   ]
  },
  {
   "cell_type": "code",
   "execution_count": null,
   "id": "a18cde8a",
   "metadata": {},
   "outputs": [],
   "source": [
    "# Plot the EnzymeML document\n",
    "pe.plot(\n",
    "    enzmldoc=enzmldoc,\n",
    "    show=True,  # Show the plot in the notebook\n",
    "    dpi=300,  # Resolution of the plot\n",
    "    out=\"enzmldoc.png\",  # Path to save the plot\n",
    "    columns=2,  # Optional: number of columns in the plot\n",
    "    # measurement_ids=[\"measurement_1\", \"measurement_2\"], # Optional: plot only specific measurements\n",
    ")"
   ]
  }
 ],
 "metadata": {
  "kernelspec": {
   "display_name": "catalax",
   "language": "python",
   "name": "python3"
  },
  "language_info": {
   "codemirror_mode": {
    "name": "ipython",
    "version": 3
   },
   "file_extension": ".py",
   "mimetype": "text/x-python",
   "name": "python",
   "nbconvert_exporter": "python",
   "pygments_lexer": "ipython3",
   "version": "3.11.11"
  }
 },
 "nbformat": 4,
 "nbformat_minor": 5
}
