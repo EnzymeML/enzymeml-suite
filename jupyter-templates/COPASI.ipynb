{
 "cells": [
  {
   "cell_type": "markdown",
   "id": "33aefc8f",
   "metadata": {},
   "source": [
    "# COPASI (Basico) Template\n",
    "\n",
    "This template provides access to COPASI's powerful biochemical modeling capabilities through the basico Python interface. COPASI (COmplex PAthway SImulator) is a software application for simulation and analysis of biochemical networks and their dynamics.\n",
    "\n",
    "## Features\n",
    "\n",
    "- **Model Building**: Create and modify biochemical reaction networks\n",
    "- **Time Course Simulation**: Simulate the temporal evolution of species concentrations\n",
    "- **Steady State Analysis**: Find and analyze steady states of biochemical systems\n",
    "- **Parameter Estimation**: Fit model parameters to experimental data\n",
    "- **Sensitivity Analysis**: Analyze parameter sensitivity and model robustness\n",
    "- **Metabolic Control Analysis**: Compute control coefficients and elasticities\n",
    "- **Optimization**: Perform various optimization tasks on biochemical models\n",
    "\n",
    "## What You Can Do\n",
    "\n",
    "- Import and export models in SBML format\n",
    "- Run deterministic and stochastic simulations\n",
    "- Perform parameter scans and optimization\n",
    "- Generate plots and visualizations of results\n",
    "\n",
    "This template is ideal for researchers working with enzyme kinetics, metabolic networks, and systems biology modeling who want to leverage COPASI's robust simulation engine through a Python interface. Check out the [COPASI/BasiCO documentation](https://basico.readthedocs.io/en/latest/) for more information.\n"
   ]
  },
  {
   "cell_type": "code",
   "execution_count": null,
   "id": "2659286d",
   "metadata": {},
   "outputs": [],
   "source": [
    "# Install all required packages\n",
    "%pip install pyenzyme copasi-basico"
   ]
  },
  {
   "cell_type": "code",
   "execution_count": 1,
   "id": "8de39726",
   "metadata": {},
   "outputs": [],
   "source": [
    "import pyenzyme as pe\n",
    "import pyenzyme.thinlayers as tl"
   ]
  },
  {
   "cell_type": "markdown",
   "id": "39b9f95a",
   "metadata": {},
   "source": [
    "In the following cell, we will load the EnzymML document from the EnzymeML Suite. The resulting object is an instance of the `EnzymeMLDocument` class, which you can inspect and re-use for your analysis. The following functions are available and compatible with the EnzymeMLDocument class:\n",
    "\n",
    "- `pe.summary(enzmldoc)`: Print a summary of the EnzymeML document.\n",
    "- `pe.plot(enzmldoc)`: Plot the EnzymeML document.\n",
    "- `pe.plot_interactive(enzmldoc)`: Interactive plot of the EnzymeML document.\n",
    "- `pe.to_pandas(enzmldoc)`: Convert the EnzymeML document to a pandas DataFrame.\n",
    "- `pe.to_sbml(enzmldoc)`: Convert the EnzymeML document to an SBML document.\n",
    "- `pe.to_petab(enzmldoc)`: Convert the EnzymeML document to a PEtab format.\n",
    "- `pe.get_current()`: Get the current EnzymeML document from the EnzymeML Suite."
   ]
  },
  {
   "cell_type": "code",
   "execution_count": null,
   "id": "f9307ef7",
   "metadata": {},
   "outputs": [],
   "source": [
    "# Connect to the EnzymeML Suite\n",
    "suite = pe.EnzymeMLSuite()\n",
    "\n",
    "# Get the current EnzymeML document\n",
    "enzmldoc = suite.get_current()\n",
    "\n",
    "# Print a summary of the EnzymeML document\n",
    "pe.summary(enzmldoc)"
   ]
  },
  {
   "cell_type": "markdown",
   "id": "0e7b64f5",
   "metadata": {},
   "source": [
    "## Using the COPASI/BasiCO thin layer\n",
    "\n",
    "The thin layers has been designed to simply take the EnzymeML document, convert it to SBML and pass it to COPASI. The package will then build a state model and optimize it:\n",
    "\n",
    "$$\n",
    "\\frac{d\\mathbf{S}}{dt} = \\mathbf{N} \\cdot \\mathbf{v}(S, \\theta)\n",
    "$$\n",
    "\n",
    "Where $N \\in \\mathbb{R}^{n \\times m}$ is the stoichiometric matrix, $v$ is the flux vector, and $S \\in \\mathbb{R}^n$ is the species concentration vector. This represents the dynamic system where the rate of change of species concentrations is given by the dot product of the stoichiometric matrix and the reaction rates.\n",
    "\n",
    "The rate equations are defined as:\n",
    "\n",
    "$$\n",
    "\\mathbf{v} = f(\\mathbf{S}, \\mathbf{p})\n",
    "$$\n",
    "\n",
    "Where $\\mathbf{p}$ is the parameter vector containing kinetic constants and other model parameters. Finally, this system will iteratively solve the system of equations to find the optimal parameters, using the method specified in the `method` argument."
   ]
  },
  {
   "cell_type": "code",
   "execution_count": null,
   "id": "a18cde8a",
   "metadata": {},
   "outputs": [],
   "source": [
    "# Create a PySCeS layer and optimize the model\n",
    "copasi_layer = tl.ThinLayerCopasi(enzmldoc)\n",
    "copasi_layer.optimize()\n",
    "fitted_model = copasi_layer.write()"
   ]
  },
  {
   "cell_type": "code",
   "execution_count": null,
   "id": "08c33c45",
   "metadata": {},
   "outputs": [],
   "source": [
    "# Visualize the result\n",
    "pe.plot(fitted_model, thinlayer=copasi_layer, show=True)"
   ]
  },
  {
   "cell_type": "markdown",
   "id": "dd6bcb63",
   "metadata": {},
   "source": [
    "## Update the EnzymeML Suite document\n",
    "\n",
    "Once done, we can update the EnzymeML Suite document with the optimized parameters."
   ]
  },
  {
   "cell_type": "code",
   "execution_count": null,
   "id": "e3bd9ff9",
   "metadata": {},
   "outputs": [],
   "source": [
    "# Update the EnzymeML Suite document\n",
    "suite.update_current(fitted_model)"
   ]
  }
 ],
 "metadata": {
  "kernelspec": {
   "display_name": "catalax",
   "language": "python",
   "name": "python3"
  },
  "language_info": {
   "codemirror_mode": {
    "name": "ipython",
    "version": 3
   },
   "file_extension": ".py",
   "mimetype": "text/x-python",
   "name": "python",
   "nbconvert_exporter": "python",
   "pygments_lexer": "ipython3",
   "version": "3.11.11"
  }
 },
 "nbformat": 4,
 "nbformat_minor": 5
}
